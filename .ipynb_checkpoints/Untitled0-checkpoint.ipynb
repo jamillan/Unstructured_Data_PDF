{
 "metadata": {
  "name": "",
  "signature": "sha256:b0b1b3e5c264f242af0c47452139539415757019099ec8884db1268696d86942"
 },
 "nbformat": 3,
 "nbformat_minor": 0,
 "worksheets": [
  {
   "cells": [
    {
     "cell_type": "code",
     "collapsed": false,
     "input": [
      "#Naive Bayesian\n",
      "from __future__ import division\n",
      "import collections\n",
      "import math\n",
      "\n",
      "\n",
      "class Bayesian:\n",
      "  def __init__(self,arffFile):\n",
      "    self.trainingFile = arffFile\n",
      "    self.features = {}      #all feature names and their possible values (including the class label)\n",
      "    self.featureList = []       #this is to maintain the order of features as in the arff\n",
      "    self.featureCounts = collections.defaultdict(lambda: 1)#contains tuples of the form (label, feature_name, feature_value)\n",
      "    self.featureVectors = []        #contains all the values and the label as the last entry\n",
      "    self.labelCounts = collections.defaultdict(lambda: 0)   #these will be smoothed late\n",
      "\n",
      "#Training function\n",
      "  def ClassifierTraining(self):\n",
      "    print \"I am getting trained\"\n",
      "    for fv in self.featureVectors:\n",
      "      self.labelCounts[fv[len(fv)-1]]+=1\n",
      "      for counter in range(0,len(fv)-1):\n",
      "        self.featureCounts[(fv[len(fv)-1], self.featureList[counter], fv[counter])] += 1\n",
      "\n",
      "\n",
      "\n",
      "#   for label in self.labelCounts:\n",
      "#     for feature in self.featureList[:len(self.featureList)-1]:\n",
      "#       self.labelCounts[label] += len(self.features[feature])\n",
      "\n",
      "#classifier\n",
      "  def Classify(self,featureVector):\n",
      "    \n",
      "    probabilityPerLabel = {}\n",
      "    for label in self.labelCounts:\n",
      "      logProb = 0\n",
      "      for featureValue in featureVector:\n",
      "\n",
      "        logProb +=  math.log(self.featureCounts[(label, self.featureList[featureVector.index(featureValue)], featureValue)]/self.labelCounts[label])\n",
      "\n",
      "      probabilityPerLabel[label] = (self.labelCounts[label]/sum(self.labelCounts.values())) * math.exp(logProb)\n",
      "\n",
      "    return max(probabilityPerLabel, key = lambda classLabel: probabilityPerLabel[classLabel])\n",
      "\n",
      "  def GetValues(self):\n",
      "    file = open(self.trainingFile,'r')\n",
      "    for line in file:\n",
      "      if line[0]!='@':#start of data\n",
      "        self.featureVectors.append(line.strip().lower().split(','))\n",
      "      else:\n",
      "        if line.strip().lower().find('@data')==-1 and  (not line.lower().startswith('@relation')):\n",
      "          self.featureList.append(line.strip().split()[1])\n",
      "          self.features[self.featureList[len(self.featureList) - 1]] = line[line.find('{')+1: line.find('}')].strip().split(',')\n",
      "\n",
      "    file.close()\n",
      "\n",
      "\n",
      "  def TestClassifier(self,arffFile):\n",
      "    hits = 0.\n",
      "    size = 0.\n",
      "    file = open(arffFile , 'r')\n",
      "    for line in file:\n",
      "      if line[0]!='@':\n",
      "        size = size + 1\n",
      "        vector=line.strip().lower().split(',')\n",
      "        print \"classifier: \" + self.Classify(vector) + \" given \" + vector[len(vector) - 1]\n",
      "        if self.Classify(vector) == vector[len(vector) - 1]:\n",
      "           hits = hits + 1\n",
      "            \n",
      "    print  \"Precision\" ,hits / size"
     ],
     "language": "python",
     "metadata": {},
     "outputs": [],
     "prompt_number": 19
    },
    {
     "cell_type": "code",
     "collapsed": false,
     "input": [
      "model=Bayesian(\"/Users/jamillan/Desktop/BayesClassifier/training.arff\")\n",
      "model.GetValues()\n",
      "model.ClassifierTraining()\n",
      "model.TestClassifier(\"/Users/jamillan/Desktop/BayesClassifier/test.arff\")"
     ],
     "language": "python",
     "metadata": {},
     "outputs": [
      {
       "output_type": "stream",
       "stream": "stdout",
       "text": [
        "I am getting trained\n",
        "classifier: yes given yes\n",
        "classifier: yes given yes\n",
        "classifier: no given no\n",
        "classifier: yes given yes\n",
        "classifier: yes given yes\n",
        "classifier: yes given yes\n",
        "classifier: no given yes\n",
        "classifier: yes given yes\n",
        "classifier: no given no\n",
        "Precision 0.888888888889\n"
       ]
      }
     ],
     "prompt_number": 20
    },
    {
     "cell_type": "code",
     "collapsed": false,
     "input": [],
     "language": "python",
     "metadata": {},
     "outputs": []
    }
   ],
   "metadata": {}
  }
 ]
}